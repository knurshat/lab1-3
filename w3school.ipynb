{
 "cells": [
  {
   "cell_type": "code",
   "execution_count": 3,
   "metadata": {},
   "outputs": [
    {
     "name": "stdout",
     "output_type": "stream",
     "text": [
      "Hello, World!\n"
     ]
    }
   ],
   "source": [
    "print(\"Hello, World!\")"
   ]
  },
  {
   "cell_type": "code",
   "execution_count": 2,
   "metadata": {},
   "outputs": [
    {
     "name": "stdout",
     "output_type": "stream",
     "text": [
      "Hello, World!\n"
     ]
    }
   ],
   "source": [
    "import sys\n",
    "\n",
    "print(sys.version)"
   ]
  },
  {
   "cell_type": "code",
   "execution_count": 4,
   "metadata": {},
   "outputs": [
    {
     "name": "stdout",
     "output_type": "stream",
     "text": [
      "Fiive is greater than two!\n"
     ]
    }
   ],
   "source": [
    "if 5 > 2:\n",
    "    print(\"Fiive is greater than two!\")"
   ]
  },
  {
   "cell_type": "code",
   "execution_count": null,
   "metadata": {},
   "outputs": [],
   "source": [
    "if 5 > 2:\n",
    "  print(\"Five is greater than two!\")\n",
    "if 5 > 2:\n",
    "        print(\"Five is greater than two!\")"
   ]
  },
  {
   "cell_type": "code",
   "execution_count": null,
   "metadata": {},
   "outputs": [],
   "source": [
    "x = 126\n",
    "y = \"Five greater than two!\"\n",
    "print(x)\n",
    "print(y)"
   ]
  },
  {
   "cell_type": "code",
   "execution_count": 5,
   "metadata": {},
   "outputs": [
    {
     "name": "stdout",
     "output_type": "stream",
     "text": [
      "Hello, World\n",
      "Hello, World!\n",
      "Chears, Mate!\n"
     ]
    }
   ],
   "source": [
    "#This is comment.\n",
    "print(\"Hello, World\")\n",
    "\n",
    "print(\"Hello, World!\") #This is comment\n",
    "\n",
    "#print(\"Hello, World!\")\n",
    "print(\"Chears, Mate!\")"
   ]
  },
  {
   "cell_type": "code",
   "execution_count": 6,
   "metadata": {},
   "outputs": [
    {
     "name": "stdout",
     "output_type": "stream",
     "text": [
      "5\n",
      "John\n",
      "Sally\n",
      "3\n",
      "3\n",
      "3.0\n",
      "<class 'float'>\n",
      "<class 'str'>\n"
     ]
    }
   ],
   "source": [
    "x = 5\n",
    "y = \"John\"\n",
    "print(x)\n",
    "print(y)\n",
    "\n",
    "x = 4\n",
    "x = \"Sally\"\n",
    "print(x) #print just \"Sally\"\n",
    "\n",
    "x = str(3)\n",
    "y = int(3)\n",
    "z = float(3)\n",
    "print(x)\n",
    "print(y)\n",
    "print(z)\n",
    "\n",
    "print(type(z))\n",
    "y = \"John\"\n",
    "print(type(y))"
   ]
  },
  {
   "cell_type": "code",
   "execution_count": 7,
   "metadata": {},
   "outputs": [
    {
     "data": {
      "text/plain": [
       "'\\n2myvar = \"John\"\\nmy-var = \"John\"\\nmy var = \"John\"\\n'"
      ]
     },
     "execution_count": 7,
     "metadata": {},
     "output_type": "execute_result"
    }
   ],
   "source": [
    "#legal and illegal names\n",
    "#legal names\n",
    "myvar = \"John\"\n",
    "my_var = \"John\"\n",
    "_my_var = \"John\"\n",
    "myVar = \"John\"\n",
    "MYVAR = \"John\"\n",
    "myvar2 = \"John\"\n",
    "#illegal names\n",
    "\"\"\"\n",
    "2myvar = \"John\"\n",
    "my-var = \"John\"\n",
    "my var = \"John\"\n",
    "\"\"\""
   ]
  },
  {
   "cell_type": "code",
   "execution_count": 8,
   "metadata": {},
   "outputs": [
    {
     "name": "stdout",
     "output_type": "stream",
     "text": [
      "O B C\n",
      "Orange Orange Orange\n",
      "apple banana cherry\n"
     ]
    }
   ],
   "source": [
    "#assign multiple values\n",
    "x, y, z = \"O\", \"B\", \"C\"\n",
    "print(x, y, z)\n",
    "\n",
    "x = y = z = \"Orange\"\n",
    "print(x , y ,z )\n",
    "\n",
    "fruits = [\"apple\", \"banana\", \"cherry\"]\n",
    "x, y , z = fruits # как я понимаю, я не могу взять меньшее количество пеерменных, чем задано в массиве\n",
    "print(x , y ,z)"
   ]
  },
  {
   "cell_type": "code",
   "execution_count": 9,
   "metadata": {},
   "outputs": [
    {
     "name": "stdout",
     "output_type": "stream",
     "text": [
      "Python is awesome\n",
      "Python is awesome\n",
      "Python is awesome\n",
      "15\n"
     ]
    },
    {
     "data": {
      "text/plain": [
       "'\"\\nx = 5\\ny = \"John\"\\nprint(x+y) #That is illegal\\n\\nprint(x, y) is legal\\n'"
      ]
     },
     "execution_count": 9,
     "metadata": {},
     "output_type": "execute_result"
    }
   ],
   "source": [
    "#output variables\n",
    "x = \"Python is awesome\"\n",
    "print(x)\n",
    "\n",
    "x = \"Python\"\n",
    "y = \"is\"\n",
    "z = \"awesome\"\n",
    "print(x, y, z)\n",
    "\n",
    "x = \"Python \"\n",
    "y = \"is \"\n",
    "z = \"awesome\"\n",
    "print(x+y+z)\n",
    "\n",
    "x = 5\n",
    "y = 10\n",
    "print(x+y)\n",
    "\n",
    "\"\"\"\"\n",
    "x = 5\n",
    "y = \"John\"\n",
    "print(x+y) #That is illegal\n",
    "\n",
    "print(x, y) is legal\n",
    "\"\"\""
   ]
  },
  {
   "cell_type": "code",
   "execution_count": null,
   "metadata": {},
   "outputs": [],
   "source": [
    "#global veriables\n",
    "x = \"awesome\"\n",
    "\n",
    "def myfunc():\n",
    "    print(\"Python is\" + \" \" + x)\n",
    "\n",
    "def func():\n",
    "    x =  \"fantastic\"\n",
    "    print(\"Python is\" + \" \" + x)\n",
    "# если изменять переменную внутри функции она не изменится во всем коде\n",
    "myfunc()\n",
    "func()\n",
    "print(\"Python is \" + x)\n",
    "\n",
    "def mfunc():\n",
    "    global x\n",
    "    x = \"fantastic\"\n",
    "\n",
    "mfunc()\n",
    "\n",
    "print(\"Python is \" + x)"
   ]
  },
  {
   "cell_type": "code",
   "execution_count": 10,
   "metadata": {},
   "outputs": [
    {
     "name": "stdout",
     "output_type": "stream",
     "text": [
      "<class 'int'> ,  <class 'float'> ,  <class 'complex'>\n",
      "<class 'int'> ,  <class 'int'> ,  <class 'int'>\n",
      "<class 'float'> ,  <class 'float'> ,  <class 'float'>\n",
      "<class 'complex'> ,  <class 'complex'> ,  <class 'complex'>\n",
      "1.0 2 1j\n",
      "<class 'float'> ,  <class 'int'> ,  <class 'complex'>\n"
     ]
    }
   ],
   "source": [
    "#numbers\n",
    "x = 1     # int\n",
    "y = 2.8   # float\n",
    "z = 1j    # complex\n",
    "print(type(x),\", \", type(y),\", \", type(z))\n",
    "\n",
    "\n",
    "\n",
    "x = 1\n",
    "y =12345679081232435475769879\n",
    "z = -123565768\n",
    "print(type(x),\", \", type(y),\", \", type(z))\n",
    "\n",
    "\n",
    "x = 35e3\n",
    "y = 12E4\n",
    "z = -87.7e100\n",
    "\n",
    "print(type(x),\", \", type(y),\", \", type(z))\n",
    "\n",
    "x = 3+5j\n",
    "y = 5j\n",
    "z = -5j\n",
    "\n",
    "print(type(x),\", \", type(y),\", \", type(z))\n",
    "\n",
    "x = 1     # int\n",
    "y = 2.8   # float  \n",
    "z = 1j    # complex \n",
    "\n",
    "a = float(x)\n",
    "b = int(y)\n",
    "c = complex(z)\n",
    "\n",
    "print(a, b, c)\n",
    "print(type(a), \", \", type(b), \", \", type(c) )"
   ]
  },
  {
   "cell_type": "code",
   "execution_count": null,
   "metadata": {},
   "outputs": [],
   "source": [
    "#casting\n",
    "x = int(1)   # x will be 1\n",
    "y = int(2.8) # y will be 2\n",
    "z = int(\"3\") # z will be 3\n",
    "\n",
    "print(x, y, z)\n",
    "\n",
    "x = float(1)     # x will be 1.0 \n",
    "y = float(2.8)   # y will be 2.8\n",
    "z = float(\"3\")   # z will be 3.0\n",
    "w = float(\"4.2\") # w will be 4.2\n",
    "\n",
    "print(x,y,z,w)\n",
    "\n",
    "x = str(\"s1\") # x will be 's1'\n",
    "y = str(2)    # y will be '2'\n",
    "z = str(3.0)  # z will be '3.0'\n",
    "\n",
    "print(x,y,z)\n"
   ]
  },
  {
   "cell_type": "code",
   "execution_count": null,
   "metadata": {},
   "outputs": [],
   "source": [
    "# strings\n",
    "print(\"hi\")\n",
    "print(\"Hi\")\n",
    "\n",
    "print(\"It's alright\")\n",
    "print(\"He is called 'Patric'\")\n",
    "print('No, he is called \"Johnny\"')\n",
    "\n",
    "a = \"Hello\"\n",
    "print(a)\n",
    "\n",
    "\n",
    "a = \"a\"\"c\"\"b\"\n",
    "print(a)\n",
    "\n",
    "a = '''aaaaaaaaaaaaaaccccccccccccccbbbbbbbbbb'''\n",
    "print(a)\n",
    "\n",
    "aa = \"Hello, World\"\n",
    "print(aa[1])\n",
    "\n",
    "\n",
    "for x in \"banana\":\n",
    "    print(x)\n",
    "\n",
    "print(len(aa))\n",
    "\n",
    "txt = \" the best things in life are free\"\n",
    "print(\"free\" in txt)\n",
    "\n",
    "if \"free\" in txt:\n",
    "    print(\"Yes, 'free' is present \")\n",
    "\n",
    "print(\"expensive\" not in txt)\n",
    "\n",
    "if \"expensive\" not in txt:\n",
    "    print(\"No, 'expensive' is NOT present.\")\n"
   ]
  },
  {
   "cell_type": "code",
   "execution_count": null,
   "metadata": {},
   "outputs": [],
   "source": [
    "#slicing strings\n",
    "b = \"Hello, World!\"\n",
    "print(b[1:5])\n",
    "\n",
    "print(b[:5])\n",
    "print(b[:])\n",
    "print(b[2:])\n",
    "print(b[-5:-2])"
   ]
  },
  {
   "cell_type": "code",
   "execution_count": 12,
   "metadata": {},
   "outputs": [
    {
     "name": "stdout",
     "output_type": "stream",
     "text": [
      "HELLO, WORLD\n",
      "hello, world\n",
      "Hello, World!\n",
      "Jello, World!, World!\n",
      "['Hello', ' World!', ' World!']\n",
      "['Hello,', 'World!,', 'World!']\n",
      "['Hello, ', 'orld!, ', 'orld!']\n"
     ]
    }
   ],
   "source": [
    "#Modify strings\n",
    "a = \"Hello, World\"\n",
    "print(a.upper())\n",
    "\n",
    "print(a.lower())\n",
    "\n",
    "a = \"       Hello, World!  \"\n",
    "print(a.strip())\n",
    "\n",
    "a = \"Hello, World!, World!\"\n",
    "print(a.replace(\"H\", \"J\"))\n",
    "\n",
    "print(a.split(\",\"))\n",
    "print(a.split())\n",
    "print(a.split(\"W\"))\n"
   ]
  },
  {
   "cell_type": "code",
   "execution_count": 11,
   "metadata": {},
   "outputs": [
    {
     "name": "stdout",
     "output_type": "stream",
     "text": [
      "My name is John, I am 36\n",
      "My name is John, I am 36\n",
      "The price is 59 dollars\n",
      "The price is 59.00 dollars\n",
      "The price is 1180 dollars\n"
     ]
    }
   ],
   "source": [
    "#Concatenate strings\n",
    "a = \"Hello\"\n",
    "b = \", World!\"\n",
    "c = a + b\n",
    "print(c)\n",
    "\n",
    "c = a + \" \" + b\n",
    "print(c)\n",
    "\n"
   ]
  },
  {
   "cell_type": "code",
   "execution_count": null,
   "metadata": {},
   "outputs": [],
   "source": [
    "#format strings\n",
    "age = 36\n",
    "txt = \"My name is John, I am \" + str(age) \n",
    "print(txt)\n",
    "\n",
    "txt = f\"My name is John, I am {age}\"\n",
    "print(txt)\n",
    "\n",
    "price = 59\n",
    "txt = f\"The price is {price} dollars\"\n",
    "print(txt)\n",
    "\n",
    "txt = f\"The price is {price:.2f} dollars\"\n",
    "print(txt)\n",
    "\n",
    "txt = f\"The price is {20 * 59} dollars\"\n",
    "print(txt)\n"
   ]
  }
 ],
 "metadata": {
  "kernelspec": {
   "display_name": "Python 3",
   "language": "python",
   "name": "python3"
  },
  "language_info": {
   "codemirror_mode": {
    "name": "ipython",
    "version": 3
   },
   "file_extension": ".py",
   "mimetype": "text/x-python",
   "name": "python",
   "nbconvert_exporter": "python",
   "pygments_lexer": "ipython3",
   "version": "3.11.9"
  }
 },
 "nbformat": 4,
 "nbformat_minor": 2
}
